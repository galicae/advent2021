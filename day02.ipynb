{
 "cells": [
  {
   "cell_type": "markdown",
   "id": "44932825-e5ed-4fc4-be3b-32a1ad4dc47e",
   "metadata": {},
   "source": [
    "# Day 02: piloting"
   ]
  },
  {
   "cell_type": "code",
   "execution_count": 1,
   "id": "e7720ce7-e4a2-4bed-bf21-d01f529dcb19",
   "metadata": {},
   "outputs": [],
   "source": [
    "import numpy as np\n",
    "import pandas as pd"
   ]
  },
  {
   "cell_type": "code",
   "execution_count": 2,
   "id": "a83a7945-7c3d-4ca6-ab57-d004e2163178",
   "metadata": {},
   "outputs": [],
   "source": [
    "test = \"\"\"\n",
    "forward 5\n",
    "down 5\n",
    "forward 8\n",
    "up 3\n",
    "down 8\n",
    "forward 2\n",
    "\"\"\""
   ]
  },
  {
   "cell_type": "code",
   "execution_count": 3,
   "id": "70f8315d-0733-46e8-bc85-e5e8c26410b2",
   "metadata": {},
   "outputs": [],
   "source": [
    "def parse_course(instructions, horizontal=0, depth=0):\n",
    "    for direction, value in instructions:\n",
    "        if direction == \"forward\":\n",
    "            horizontal += int(value)\n",
    "        elif direction == \"down\":\n",
    "            depth += int(value)\n",
    "        elif direction == \"up\":\n",
    "            depth -= int(value)\n",
    "    return horizontal, depth"
   ]
  },
  {
   "cell_type": "code",
   "execution_count": 4,
   "id": "1de41613-4ada-4be5-9c39-2d5baac7cc3d",
   "metadata": {},
   "outputs": [],
   "source": [
    "test_instructions = [x.split() for x in test.strip().split(\"\\n\")]"
   ]
  },
  {
   "cell_type": "code",
   "execution_count": 5,
   "id": "c7bac63d-6155-4e89-a6a1-abd3262a141e",
   "metadata": {},
   "outputs": [
    {
     "data": {
      "text/plain": [
       "(15, 10)"
      ]
     },
     "execution_count": 5,
     "metadata": {},
     "output_type": "execute_result"
    }
   ],
   "source": [
    "parse_course(test_instructions)"
   ]
  },
  {
   "cell_type": "markdown",
   "id": "5f64354d-cf7e-4660-9429-9f712cce61a8",
   "metadata": {},
   "source": [
    "This is the same as in the puzzle website, so yay"
   ]
  },
  {
   "cell_type": "code",
   "execution_count": 6,
   "id": "e41206f9-ab03-4cd2-bb2f-9aeb410ffea9",
   "metadata": {},
   "outputs": [],
   "source": [
    "with open(\"./day02_input.txt\", \"r\") as filein:\n",
    "    lines = [line.strip() for line in filein]"
   ]
  },
  {
   "cell_type": "code",
   "execution_count": 7,
   "id": "d9dc055c-3c30-4049-93f6-381fd23f99da",
   "metadata": {},
   "outputs": [],
   "source": [
    "instructions = [x.split() for x in lines]"
   ]
  },
  {
   "cell_type": "code",
   "execution_count": 8,
   "id": "818ed88c-1753-4279-bcd3-a2da85e4e9d0",
   "metadata": {},
   "outputs": [
    {
     "data": {
      "text/plain": [
       "(2083, 955)"
      ]
     },
     "execution_count": 8,
     "metadata": {},
     "output_type": "execute_result"
    }
   ],
   "source": [
    "parse_course(instructions)"
   ]
  },
  {
   "cell_type": "code",
   "execution_count": 9,
   "id": "750e08e7-3a80-4ee9-8faf-292197aa0ec4",
   "metadata": {},
   "outputs": [
    {
     "data": {
      "text/plain": [
       "1989265"
      ]
     },
     "execution_count": 9,
     "metadata": {},
     "output_type": "execute_result"
    }
   ],
   "source": [
    "2083 * 955"
   ]
  },
  {
   "cell_type": "code",
   "execution_count": 10,
   "id": "28b424ab-663d-4958-840b-3da7e382c5c4",
   "metadata": {},
   "outputs": [],
   "source": [
    "def parse_course_aim(instructions, horizontal=0, depth=0, aim=0):\n",
    "    for direction, value in instructions:\n",
    "        if direction == \"forward\":\n",
    "            horizontal += int(value)\n",
    "            depth += aim * int(value)\n",
    "        elif direction == \"down\":\n",
    "            aim += int(value)\n",
    "        elif direction == \"up\":\n",
    "            aim -= int(value)\n",
    "    return horizontal, depth"
   ]
  },
  {
   "cell_type": "code",
   "execution_count": 11,
   "id": "c76d7ab2-7b09-4145-beaa-7a3181da11e9",
   "metadata": {},
   "outputs": [
    {
     "data": {
      "text/plain": [
       "(15, 60)"
      ]
     },
     "execution_count": 11,
     "metadata": {},
     "output_type": "execute_result"
    }
   ],
   "source": [
    "parse_course_aim(test_instructions)"
   ]
  },
  {
   "cell_type": "code",
   "execution_count": 12,
   "id": "ce2b9370-b11c-465f-983c-a9c7b614aa63",
   "metadata": {},
   "outputs": [
    {
     "data": {
      "text/plain": [
       "(2083, 1002964)"
      ]
     },
     "execution_count": 12,
     "metadata": {},
     "output_type": "execute_result"
    }
   ],
   "source": [
    "parse_course_aim(instructions)"
   ]
  },
  {
   "cell_type": "code",
   "execution_count": 13,
   "id": "0b359399-c693-446b-81f3-821155374c87",
   "metadata": {},
   "outputs": [
    {
     "data": {
      "text/plain": [
       "2089174012"
      ]
     },
     "execution_count": 13,
     "metadata": {},
     "output_type": "execute_result"
    }
   ],
   "source": [
    "2083 * 1002964"
   ]
  },
  {
   "cell_type": "markdown",
   "id": "9ecadc7d-210f-4cab-94ea-9295bcbe119c",
   "metadata": {},
   "source": [
    "yay got it in one"
   ]
  }
 ],
 "metadata": {
  "kernelspec": {
   "display_name": "Python 3 (ipykernel)",
   "language": "python",
   "name": "python3"
  },
  "language_info": {
   "codemirror_mode": {
    "name": "ipython",
    "version": 3
   },
   "file_extension": ".py",
   "mimetype": "text/x-python",
   "name": "python",
   "nbconvert_exporter": "python",
   "pygments_lexer": "ipython3",
   "version": "3.9.6"
  }
 },
 "nbformat": 4,
 "nbformat_minor": 5
}
