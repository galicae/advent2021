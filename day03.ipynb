{
 "cells": [
  {
   "cell_type": "markdown",
   "id": "b8695b8d-98a8-4813-93fd-adfabd9c5450",
   "metadata": {},
   "source": [
    "# Day 03: diagnostics\n",
    "\n",
    "## Part One - engine"
   ]
  },
  {
   "cell_type": "code",
   "execution_count": 1,
   "id": "575b7edc-6072-41f3-8a6c-f86940523a55",
   "metadata": {},
   "outputs": [],
   "source": [
    "import numpy as np\n",
    "import pandas as pd"
   ]
  },
  {
   "cell_type": "code",
   "execution_count": 2,
   "id": "b5a66870-6305-4178-82cb-4b1c5c363fc8",
   "metadata": {},
   "outputs": [],
   "source": [
    "test = \"\"\"\n",
    "00100\n",
    "11110\n",
    "10110\n",
    "10111\n",
    "10101\n",
    "01111\n",
    "00111\n",
    "11100\n",
    "10000\n",
    "11001\n",
    "00010\n",
    "01010\n",
    "\"\"\""
   ]
  },
  {
   "cell_type": "code",
   "execution_count": 3,
   "id": "109e4642-25c6-4beb-8049-15585d2e161b",
   "metadata": {},
   "outputs": [],
   "source": [
    "test_instructions = np.array([list(x) for x in test.strip().split(\"\\n\")], dtype=int)"
   ]
  },
  {
   "cell_type": "markdown",
   "id": "03e023b7-f478-4a4e-af2f-9c3713701562",
   "metadata": {},
   "source": [
    "> Each bit in the gamma rate can be determined by finding the most common bit in the corresponding position of all numbers in the diagnostic report.\n",
    "\n",
    "We can do this by taking the rowsum and asking which rows have more 1s than half the width (i.e. majority ones)"
   ]
  },
  {
   "cell_type": "code",
   "execution_count": 4,
   "id": "e6451dde-8a5f-4092-afd3-e9f5ef51351f",
   "metadata": {},
   "outputs": [
    {
     "data": {
      "text/plain": [
       "array([[0, 0, 1, 0, 0],\n",
       "       [1, 1, 1, 1, 0],\n",
       "       [1, 0, 1, 1, 0],\n",
       "       [1, 0, 1, 1, 1],\n",
       "       [1, 0, 1, 0, 1],\n",
       "       [0, 1, 1, 1, 1],\n",
       "       [0, 0, 1, 1, 1],\n",
       "       [1, 1, 1, 0, 0],\n",
       "       [1, 0, 0, 0, 0],\n",
       "       [1, 1, 0, 0, 1],\n",
       "       [0, 0, 0, 1, 0],\n",
       "       [0, 1, 0, 1, 0]])"
      ]
     },
     "execution_count": 4,
     "metadata": {},
     "output_type": "execute_result"
    }
   ],
   "source": [
    "test_instructions"
   ]
  },
  {
   "cell_type": "code",
   "execution_count": 5,
   "id": "4c9b7964-6f90-450a-a024-23ffd3464722",
   "metadata": {},
   "outputs": [],
   "source": [
    "rowsum = np.sum(test_instructions, axis=0)\n",
    "threshold = test_instructions.shape[0] / 2."
   ]
  },
  {
   "cell_type": "code",
   "execution_count": 6,
   "id": "d1379ab3-f311-4a41-b761-240eea1eb3f3",
   "metadata": {},
   "outputs": [],
   "source": [
    "test_gamma = rowsum > threshold\n",
    "test_epsilon = np.invert(test_gamma)"
   ]
  },
  {
   "cell_type": "code",
   "execution_count": 7,
   "id": "3d9eb244-de57-4243-8245-d742e6c727d5",
   "metadata": {},
   "outputs": [
    {
     "data": {
      "text/plain": [
       "array([ True, False,  True,  True, False])"
      ]
     },
     "execution_count": 7,
     "metadata": {},
     "output_type": "execute_result"
    }
   ],
   "source": [
    "test_gamma"
   ]
  },
  {
   "cell_type": "code",
   "execution_count": 8,
   "id": "d33d3593-f0b6-4b93-9462-7688571ef756",
   "metadata": {},
   "outputs": [],
   "source": [
    "def bool_to_decimal(x):\n",
    "    x = x.astype(bool)\n",
    "    powers = np.arange(len(x))\n",
    "    summands = np.power(2, powers)[x[::-1]] # we have to start at the back end\n",
    "    return np.sum(summands)"
   ]
  },
  {
   "cell_type": "code",
   "execution_count": 9,
   "id": "9c7aa432-9d6b-4be0-88ab-ac448c54ab5b",
   "metadata": {},
   "outputs": [
    {
     "data": {
      "text/plain": [
       "198"
      ]
     },
     "execution_count": 9,
     "metadata": {},
     "output_type": "execute_result"
    }
   ],
   "source": [
    "bool_to_decimal(test_gamma) * bool_to_decimal(test_epsilon)"
   ]
  },
  {
   "cell_type": "markdown",
   "id": "859ed677-1c07-4792-b72c-6db25fb2ab91",
   "metadata": {},
   "source": [
    "ok checks"
   ]
  },
  {
   "cell_type": "code",
   "execution_count": 10,
   "id": "1e726aff-ccdb-43a9-9a63-94d62798ed40",
   "metadata": {},
   "outputs": [],
   "source": [
    "with open(\"./day03_input.txt\", \"r\") as filein:\n",
    "    lines = [line.strip() for line in filein]"
   ]
  },
  {
   "cell_type": "code",
   "execution_count": 11,
   "id": "1ec1b5fe-d97e-41ba-a257-f2f2d808fdd2",
   "metadata": {},
   "outputs": [],
   "source": [
    "instructions = np.array([list(x) for x in lines], dtype=int)"
   ]
  },
  {
   "cell_type": "code",
   "execution_count": 12,
   "id": "0064b120-c286-4e65-b5a3-7b87801d59fd",
   "metadata": {},
   "outputs": [],
   "source": [
    "rowsum = np.sum(instructions, axis=0)\n",
    "threshold = instructions.shape[0] / 2."
   ]
  },
  {
   "cell_type": "code",
   "execution_count": 13,
   "id": "cae42a10-2465-41cc-a0c3-a41d703aa88e",
   "metadata": {},
   "outputs": [],
   "source": [
    "gamma_input = rowsum > threshold\n",
    "epsilon_input = np.invert(gamma_input)"
   ]
  },
  {
   "cell_type": "code",
   "execution_count": 14,
   "id": "06e892a1-0b3c-46dd-b743-f007a0b1cdcf",
   "metadata": {},
   "outputs": [],
   "source": [
    "gamma = bool_to_decimal(gamma_input)\n",
    "epsilon = bool_to_decimal(epsilon_input)"
   ]
  },
  {
   "cell_type": "code",
   "execution_count": 15,
   "id": "342f8450-746f-45c7-8193-f8ac264905fe",
   "metadata": {},
   "outputs": [
    {
     "data": {
      "text/plain": [
       "(1143, 2952)"
      ]
     },
     "execution_count": 15,
     "metadata": {},
     "output_type": "execute_result"
    }
   ],
   "source": [
    "gamma, epsilon"
   ]
  },
  {
   "cell_type": "code",
   "execution_count": 16,
   "id": "523da8ec-0417-4224-a07f-623a9a4ff512",
   "metadata": {},
   "outputs": [
    {
     "data": {
      "text/plain": [
       "3374136"
      ]
     },
     "execution_count": 16,
     "metadata": {},
     "output_type": "execute_result"
    }
   ],
   "source": [
    "gamma * epsilon"
   ]
  },
  {
   "cell_type": "markdown",
   "id": "7eedc16c-9540-4264-a203-7e14c0cd3e4f",
   "metadata": {},
   "source": [
    "## Part Two - life support"
   ]
  },
  {
   "cell_type": "code",
   "execution_count": 17,
   "id": "e5a358d4-524d-46e2-ba24-11623a135800",
   "metadata": {},
   "outputs": [],
   "source": [
    "def find_oxygen(instructions):\n",
    "    # iterate through all steps except the last one\n",
    "    N = instructions.shape[1]\n",
    "    for bit in np.arange(N):\n",
    "        if instructions.shape[0] == 1:\n",
    "            break\n",
    "#         print(instructions)\n",
    "        valid_readings = instructions[:, bit]\n",
    "#         print(valid_readings)\n",
    "        test_value = np.sum(valid_readings)\n",
    "        threshold = len(valid_readings) / 2.\n",
    "        if test_value < threshold: # keep zero\n",
    "            instructions = instructions[instructions[:, bit] == 0]\n",
    "        else:\n",
    "            instructions = instructions[instructions[:, bit] == 1]\n",
    "        \n",
    "    return bool_to_decimal(instructions[0])"
   ]
  },
  {
   "cell_type": "code",
   "execution_count": 18,
   "id": "ed0a2c3c-4961-480a-bd2d-54d8835e6005",
   "metadata": {},
   "outputs": [
    {
     "data": {
      "text/plain": [
       "23"
      ]
     },
     "execution_count": 18,
     "metadata": {},
     "output_type": "execute_result"
    }
   ],
   "source": [
    "find_oxygen(test_instructions)"
   ]
  },
  {
   "cell_type": "code",
   "execution_count": 19,
   "id": "2bafbe04-7d6f-4f8d-8d9b-225c1639b9dc",
   "metadata": {},
   "outputs": [],
   "source": [
    "def find_co2(instructions):\n",
    "    # iterate through all steps except the last one\n",
    "    N = instructions.shape[1]\n",
    "    for bit in np.arange(N):\n",
    "        if instructions.shape[0] == 1:\n",
    "            break\n",
    "#         print(instructions)\n",
    "        valid_readings = instructions[:, bit]\n",
    "#         print(valid_readings)\n",
    "        test_value = np.sum(valid_readings)\n",
    "        threshold = len(valid_readings) / 2.\n",
    "        if test_value >= threshold: # keep zero\n",
    "            instructions = instructions[instructions[:, bit] == 0]\n",
    "        else:\n",
    "            instructions = instructions[instructions[:, bit] == 1]\n",
    "        \n",
    "    return bool_to_decimal(instructions[0])"
   ]
  },
  {
   "cell_type": "code",
   "execution_count": 20,
   "id": "0c247a82-9000-4a2c-a42d-1cceba2e497b",
   "metadata": {},
   "outputs": [
    {
     "data": {
      "text/plain": [
       "10"
      ]
     },
     "execution_count": 20,
     "metadata": {},
     "output_type": "execute_result"
    }
   ],
   "source": [
    "find_co2(test_instructions)"
   ]
  },
  {
   "cell_type": "code",
   "execution_count": 21,
   "id": "8a6fd242-852b-495e-87b1-45b073748b96",
   "metadata": {},
   "outputs": [],
   "source": [
    "o2 = find_oxygen(instructions)\n",
    "co2 = find_co2(instructions)"
   ]
  },
  {
   "cell_type": "code",
   "execution_count": 22,
   "id": "fe9a4fef-d1fa-472e-84a2-897add9aa05c",
   "metadata": {},
   "outputs": [
    {
     "data": {
      "text/plain": [
       "4432698"
      ]
     },
     "execution_count": 22,
     "metadata": {},
     "output_type": "execute_result"
    }
   ],
   "source": [
    "o2 * co2"
   ]
  }
 ],
 "metadata": {
  "kernelspec": {
   "display_name": "Python 3 (ipykernel)",
   "language": "python",
   "name": "python3"
  },
  "language_info": {
   "codemirror_mode": {
    "name": "ipython",
    "version": 3
   },
   "file_extension": ".py",
   "mimetype": "text/x-python",
   "name": "python",
   "nbconvert_exporter": "python",
   "pygments_lexer": "ipython3",
   "version": "3.9.6"
  }
 },
 "nbformat": 4,
 "nbformat_minor": 5
}
