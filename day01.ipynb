{
 "cells": [
  {
   "cell_type": "markdown",
   "id": "45a58ef7-8af2-40fe-9494-1ace20552f76",
   "metadata": {},
   "source": [
    "# Sonar reading"
   ]
  },
  {
   "cell_type": "code",
   "execution_count": 1,
   "id": "2368ba74-3509-4a5e-9598-20ba6fc2e449",
   "metadata": {},
   "outputs": [],
   "source": [
    "import pandas as pd\n",
    "import numpy as np"
   ]
  },
  {
   "cell_type": "code",
   "execution_count": 2,
   "id": "832f5112-e9cc-4b7b-bdbd-e14bc1bb19d4",
   "metadata": {},
   "outputs": [],
   "source": [
    "sonar = np.loadtxt(\"./day01_input.txt\")"
   ]
  },
  {
   "cell_type": "markdown",
   "id": "8bf2f25e-983a-4acc-a14e-9fc61f42a8b2",
   "metadata": {},
   "source": [
    "### Part 1: How many measurements are larger than the previous measurement?"
   ]
  },
  {
   "cell_type": "code",
   "execution_count": 3,
   "id": "22d05942-790f-4e60-8165-978eb4205165",
   "metadata": {},
   "outputs": [],
   "source": [
    "test = np.array([199, 200, 208, 210, 200, 207, 240, 269, 260, 263])"
   ]
  },
  {
   "cell_type": "code",
   "execution_count": 4,
   "id": "117d7697-a86b-4339-9f8e-d039afe587b0",
   "metadata": {},
   "outputs": [
    {
     "data": {
      "text/plain": [
       "array([199, 200, 208, 210, 200, 207, 240, 269, 260, 263])"
      ]
     },
     "execution_count": 4,
     "metadata": {},
     "output_type": "execute_result"
    }
   ],
   "source": [
    "test"
   ]
  },
  {
   "cell_type": "code",
   "execution_count": 5,
   "id": "c670124b-906c-4f59-b829-76e15e5ff18d",
   "metadata": {},
   "outputs": [
    {
     "data": {
      "text/plain": [
       "7"
      ]
     },
     "execution_count": 5,
     "metadata": {},
     "output_type": "execute_result"
    }
   ],
   "source": [
    "np.sum(test[1:] > test[:-1])"
   ]
  },
  {
   "cell_type": "markdown",
   "id": "6263c57f-c0bd-4b5b-946f-05150563846d",
   "metadata": {},
   "source": [
    "Looks solid"
   ]
  },
  {
   "cell_type": "code",
   "execution_count": 6,
   "id": "3751c09f-97b0-4591-b491-8cdd11d5ad25",
   "metadata": {},
   "outputs": [
    {
     "data": {
      "text/plain": [
       "1477"
      ]
     },
     "execution_count": 6,
     "metadata": {},
     "output_type": "execute_result"
    }
   ],
   "source": [
    "np.sum(sonar[1:] > sonar[:-1])"
   ]
  },
  {
   "cell_type": "markdown",
   "id": "f51d2b77-1eb9-46d6-b000-a13a56de07d7",
   "metadata": {},
   "source": [
    "### Part 2: the same, but now in sliding windows of window size = 3\n",
    "\n",
    "```\n",
    "199  A      \n",
    "200  A B    \n",
    "208  A B C  \n",
    "210    B C D\n",
    "200  E   C D\n",
    "207  E F   D\n",
    "240  E F G  \n",
    "269    F G H\n",
    "260      G H\n",
    "263        H\n",
    "```\n",
    "\n",
    "Start by comparing the first and second three-measurement windows. The measurements in the first window are marked A (199, 200, 208); their sum is 199 + 200 + 208 = 607. The second window is marked B (200, 208, 210); its sum is 618. The sum of measurements in the second window is larger than the sum of the first, so this first comparison increased.\n",
    "\n",
    "Your goal now is to count the number of times the sum of measurements in this sliding window increases from the previous sum. So, compare A with B, then compare B with C, then C with D, and so on. Stop when there aren't enough measurements left to create a new three-measurement sum.\n",
    "\n",
    "In the above example, the sum of each three-measurement window is as follows:\n",
    "\n",
    "```\n",
    "A: 607 (N/A - no previous sum)\n",
    "B: 618 (increased)\n",
    "C: 618 (no change)\n",
    "D: 617 (decreased)\n",
    "E: 647 (increased)\n",
    "F: 716 (increased)\n",
    "G: 769 (increased)\n",
    "H: 792 (increased)\n",
    "```\n",
    "\n",
    "In this example, there are 5 sums that are larger than the previous sum.\n",
    "\n",
    "Consider sums of a three-measurement sliding window. How many sums are larger than the previous sum?"
   ]
  },
  {
   "cell_type": "code",
   "execution_count": 7,
   "id": "96b13522-ef42-4576-b1dd-37f263f61d43",
   "metadata": {},
   "outputs": [
    {
     "name": "stdout",
     "output_type": "stream",
     "text": [
      "[399 408 418 410 407 447 509 529]\n"
     ]
    },
    {
     "data": {
      "text/plain": [
       "5"
      ]
     },
     "execution_count": 7,
     "metadata": {},
     "output_type": "execute_result"
    }
   ],
   "source": [
    "test_window = np.array([np.sum(test[i:(i+2)]) for i in range(len(test) - 2)])\n",
    "print(test_window)\n",
    "np.sum(test_window[1:] > test_window[:-1])"
   ]
  },
  {
   "cell_type": "markdown",
   "id": "01f65a80-86e8-45c5-a30b-162a29dec4f4",
   "metadata": {},
   "source": [
    "Also looks solid, gets same result as example explained"
   ]
  },
  {
   "cell_type": "code",
   "execution_count": 14,
   "id": "a1de71c2-006b-47bc-b7ce-9f8df957a1f8",
   "metadata": {},
   "outputs": [
    {
     "data": {
      "text/plain": [
       "1523"
      ]
     },
     "execution_count": 14,
     "metadata": {},
     "output_type": "execute_result"
    }
   ],
   "source": [
    "sonar_window = np.array([np.sum(sonar[i:(i+3)]) for i in range(len(sonar) - 2)])\n",
    "np.sum(sonar_window[1:] > sonar_window[:-1])"
   ]
  },
  {
   "cell_type": "markdown",
   "id": "2cca5953-96e5-415c-b233-01e767685899",
   "metadata": {},
   "source": [
    "That was wrong (too low??)\n",
    "\n",
    "UPDATE: of course I should have gone +3 further instead of +2... since python does not include the last element. On the other hand, the range I chose was correct, since I want to have the very last trio as well."
   ]
  },
  {
   "cell_type": "code",
   "execution_count": null,
   "id": "8703ea5f-50f4-4c41-9862-3d938e1b94d7",
   "metadata": {},
   "outputs": [],
   "source": []
  }
 ],
 "metadata": {
  "kernelspec": {
   "display_name": "Python 3 (ipykernel)",
   "language": "python",
   "name": "python3"
  },
  "language_info": {
   "codemirror_mode": {
    "name": "ipython",
    "version": 3
   },
   "file_extension": ".py",
   "mimetype": "text/x-python",
   "name": "python",
   "nbconvert_exporter": "python",
   "pygments_lexer": "ipython3",
   "version": "3.9.6"
  }
 },
 "nbformat": 4,
 "nbformat_minor": 5
}
